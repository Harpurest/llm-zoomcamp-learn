{
 "cells": [
  {
   "cell_type": "code",
   "execution_count": 1,
   "id": "1597828e-a6e9-4c6e-aa3f-2d4b18d11fc3",
   "metadata": {},
   "outputs": [
    {
     "data": {
      "text/plain": [
       "{'text': \"The purpose of this document is to capture frequently asked technical questions\\nThe exact day and hour of the course will be 15th Jan 2024 at 17h00. The course will start with the first  “Office Hours'' live.1\\nSubscribe to course public Google Calendar (it works from Desktop only).\\nRegister before the course starts using this link.\\nJoin the course Telegram channel with announcements.\\nDon’t forget to register in DataTalks.Club's Slack and join the channel.\",\n",
       " 'section': 'General course-related questions',\n",
       " 'question': 'Course - When will the course start?',\n",
       " 'course': 'data-engineering-zoomcamp'}"
      ]
     },
     "execution_count": 1,
     "metadata": {},
     "output_type": "execute_result"
    }
   ],
   "source": [
    "import json\n",
    "\n",
    "with open('documents.json', 'r') as documents_file:\n",
    "    documents_raw = json.load(documents_file)\n",
    "\n",
    "documents = []\n",
    "\n",
    "for course_dict in documents_raw:\n",
    "    for doc in course_dict['documents']:\n",
    "        doc['course'] = course_dict['course']\n",
    "        documents.append(doc)\n",
    "documents[0]"
   ]
  },
  {
   "cell_type": "code",
   "execution_count": 2,
   "id": "e6215159-2053-45e4-83a7-20bc91134ffa",
   "metadata": {},
   "outputs": [],
   "source": [
    "import hashlib\n",
    "\n",
    "def generate_document_id(doc):\n",
    "    # combined = f\"{doc['course']}-{doc['question']}\"\n",
    "    combined = f\"{doc['course']}-{doc['question']}-{doc['text'][:10]}\"\n",
    "    hash_object = hashlib.md5(combined.encode())\n",
    "    hash_hex = hash_object.hexdigest()\n",
    "    document_id = hash_hex[:8]\n",
    "    return document_id"
   ]
  },
  {
   "cell_type": "code",
   "execution_count": 3,
   "id": "21cbc4c6-b884-4033-a4b1-8ad6b7c05895",
   "metadata": {},
   "outputs": [],
   "source": [
    "for doc in documents:\n",
    "    doc['id'] = generate_document_id(doc)"
   ]
  },
  {
   "cell_type": "code",
   "execution_count": 4,
   "id": "5d097351-4484-4606-a1e2-24096eab12b1",
   "metadata": {},
   "outputs": [
    {
     "data": {
      "text/plain": [
       "{'text': \"You don't need it. You're accepted. You can also just start learning and submitting homework without registering. It is not checked against any registered list. Registration is just to gauge interest before the start date.\",\n",
       " 'section': 'General course-related questions',\n",
       " 'question': 'Course - I have registered for the Data Engineering Bootcamp. When can I expect to receive the confirmation email?',\n",
       " 'course': 'data-engineering-zoomcamp',\n",
       " 'id': '0bbf41ec'}"
      ]
     },
     "execution_count": 4,
     "metadata": {},
     "output_type": "execute_result"
    }
   ],
   "source": [
    "documents[3]"
   ]
  },
  {
   "cell_type": "code",
   "execution_count": 5,
   "id": "3c0113bb-3969-49a2-85aa-ea06d943ac47",
   "metadata": {},
   "outputs": [],
   "source": [
    "from collections import defaultdict"
   ]
  },
  {
   "cell_type": "code",
   "execution_count": 6,
   "id": "093c649d-99da-440a-93aa-33e8b60ec863",
   "metadata": {},
   "outputs": [],
   "source": [
    "hashes = defaultdict(list)\n",
    "\n",
    "for doc in documents:\n",
    "    doc_id = doc['id']\n",
    "    hashes[doc_id].append(doc)"
   ]
  },
  {
   "cell_type": "code",
   "execution_count": 7,
   "id": "c52f7c08-c091-4d57-aa22-0223cd521492",
   "metadata": {},
   "outputs": [
    {
     "data": {
      "text/plain": [
       "(947, 948)"
      ]
     },
     "execution_count": 7,
     "metadata": {},
     "output_type": "execute_result"
    }
   ],
   "source": [
    "len(hashes), len(documents)"
   ]
  },
  {
   "cell_type": "code",
   "execution_count": 8,
   "id": "4e61eb25-61d4-4217-a8f1-95b893dde9dc",
   "metadata": {},
   "outputs": [
    {
     "name": "stdout",
     "output_type": "stream",
     "text": [
      "593f7569 2\n"
     ]
    }
   ],
   "source": [
    "for k, values in hashes.items():\n",
    "    if len(values) > 1:\n",
    "        print(k, len(values))"
   ]
  },
  {
   "cell_type": "code",
   "execution_count": 9,
   "id": "3562bef9-620d-4e8a-94f2-957ab8856ed7",
   "metadata": {},
   "outputs": [
    {
     "data": {
      "text/plain": [
       "[{'text': \"They both do the same, it's just less typing from the script.\\nAsked by Andrew Katoch, Added by Edidiong Esu\",\n",
       "  'section': '6. Decision Trees and Ensemble Learning',\n",
       "  'question': 'Does it matter if we let the Python file create the server or if we run gunicorn directly?',\n",
       "  'course': 'machine-learning-zoomcamp',\n",
       "  'id': '593f7569'},\n",
       " {'text': \"They both do the same, it's just less typing from the script.\",\n",
       "  'section': '6. Decision Trees and Ensemble Learning',\n",
       "  'question': 'Does it matter if we let the Python file create the server or if we run gunicorn directly?',\n",
       "  'course': 'machine-learning-zoomcamp',\n",
       "  'id': '593f7569'}]"
      ]
     },
     "execution_count": 9,
     "metadata": {},
     "output_type": "execute_result"
    }
   ],
   "source": [
    "hashes['593f7569']"
   ]
  },
  {
   "cell_type": "code",
   "execution_count": 10,
   "id": "dc614cdd-a1e7-4764-81a0-710356906295",
   "metadata": {},
   "outputs": [],
   "source": [
    "import json"
   ]
  },
  {
   "cell_type": "code",
   "execution_count": 11,
   "id": "2878e3a6-8e13-4ced-8a15-5262125ffbdf",
   "metadata": {},
   "outputs": [],
   "source": [
    "with open('documents-with-ids.json', 'wt') as f_out:\n",
    "    json.dump(documents, f_out, indent=2)"
   ]
  },
  {
   "cell_type": "code",
   "execution_count": 12,
   "id": "e2af51f2-62ce-41d2-91ef-8319385d606c",
   "metadata": {},
   "outputs": [
    {
     "name": "stdout",
     "output_type": "stream",
     "text": [
      "[\n",
      "  {\n",
      "    \"text\": \"The purpose of this document is to capture frequently asked technical questions\\nThe exact day and hour of the course will be 15th Jan 2024 at 17h00. The course will start with the first  \\u201cOffice Hours'' live.1\\nSubscribe to course public Google Calendar (it works from Desktop only).\\nRegister before the course starts using this link.\\nJoin the course Telegram channel with announcements.\\nDon\\u2019t forget to register in DataTalks.Club's Slack and join the channel.\",\n",
      "    \"section\": \"General course-related questions\",\n",
      "    \"question\": \"Course - When will the course start?\",\n",
      "    \"course\": \"data-engineering-zoomcamp\",\n",
      "    \"id\": \"c02e79ef\"\n",
      "  },\n",
      "  {\n",
      "    \"text\": \"GitHub - DataTalksClub data-engineering-zoomcamp#prerequisites\",\n"
     ]
    }
   ],
   "source": [
    "!head documents-with-ids.json"
   ]
  },
  {
   "cell_type": "code",
   "execution_count": 13,
   "id": "b8027000-b8ac-40af-a403-5e92a50b94b1",
   "metadata": {},
   "outputs": [],
   "source": [
    "prompt_template = \"\"\"\n",
    "You emulate a student who's taking our course.\n",
    "Formulate 5 questions this student might ask based on a FAQ record. The record\n",
    "should contain the answer to the questions, and the questions should be complete and not too short.\n",
    "If possible, use as fewer words as possible from the record. \n",
    "\n",
    "The record:\n",
    "\n",
    "section: {section}\n",
    "question: {question}\n",
    "answer: {text}\n",
    "\n",
    "Provide the output in parsable JSON without using code blocks:\n",
    "\n",
    "[\"question1\", \"question2\", ..., \"question5\"]\n",
    "\"\"\".strip()"
   ]
  },
  {
   "cell_type": "code",
   "execution_count": 23,
   "id": "839a99f2-e4cc-4095-92f1-71d83e04fd89",
   "metadata": {},
   "outputs": [
    {
     "data": {
      "text/plain": [
       "'You emulate a student who\\'s taking our course.\\nFormulate 5 questions this student might ask based on a FAQ record. The record\\nshould contain the answer to the questions, and the questions should be complete and not too short.\\nIf possible, use as fewer words as possible from the record. \\n\\nThe record:\\n\\nsection: General course-related questions\\nquestion: Course - I have registered for the Data Engineering Bootcamp. When can I expect to receive the confirmation email?\\nanswer: You don\\'t need it. You\\'re accepted. You can also just start learning and submitting homework without registering. It is not checked against any registered list. Registration is just to gauge interest before the start date.\\n\\nProvide the output in parsable JSON without using code blocks:\\n\\n[\"question1\", \"question2\", ..., \"question5\"]'"
      ]
     },
     "execution_count": 23,
     "metadata": {},
     "output_type": "execute_result"
    }
   ],
   "source": [
    "prompt_template.format(**documents[3])"
   ]
  },
  {
   "cell_type": "code",
   "execution_count": 14,
   "id": "f605ffcf-0a7a-4bb6-9cd6-de0b05b7cfd6",
   "metadata": {},
   "outputs": [],
   "source": [
    "from google import genai\n",
    "from google.genai import types\n",
    "\n",
    "# The client gets the API key from the environment variable `GEMINI_API_KEY`.\n",
    "genai_client = genai.Client()"
   ]
  },
  {
   "cell_type": "code",
   "execution_count": 16,
   "id": "473ff6ee-8584-478e-950f-ad7cfe875f02",
   "metadata": {},
   "outputs": [],
   "source": [
    "def generate_questions(doc):\n",
    "    prompt = prompt_template.format(**doc)\n",
    "\n",
    "    contents = types.Content(\n",
    "      role='user',\n",
    "      parts=[types.Part.from_text(text=prompt)]\n",
    "    )\n",
    "    \n",
    "    response = genai_client.models.generate_content(\n",
    "        model=\"gemini-2.5-flash\", contents=contents\n",
    "    )\n",
    "    return response.text"
   ]
  },
  {
   "cell_type": "code",
   "execution_count": 19,
   "id": "75915d64-ade4-4966-9eee-baa296ec4e5c",
   "metadata": {},
   "outputs": [
    {
     "name": "stdout",
     "output_type": "stream",
     "text": [
      "[\"After completing the registration for the Data Engineering Bootcamp, should I expect to receive an acceptance or confirmation email?\",\n",
      "\"Is it absolutely necessary to complete the registration process before I can begin accessing course materials or submitting assignments?\",\n",
      "\"If registration isn't a strict requirement for participation, what is its actual role or benefit within the course structure?\",\n",
      "\"Will my submissions for assignments be validated against any official enrollment list, or can I submit them independently?\",\n",
      "\"Without receiving a formal confirmation, how can I be certain that I am officially enrolled and ready to fully participate in the Data Engineering Bootcamp?\"]\n"
     ]
    }
   ],
   "source": [
    "json_response = generate_questions(documents[3])\n",
    "print(json_response)"
   ]
  },
  {
   "cell_type": "code",
   "execution_count": 20,
   "id": "76540742-4e9b-43bf-896e-c744ade1e87b",
   "metadata": {},
   "outputs": [
    {
     "data": {
      "text/plain": [
       "['After completing the registration for the Data Engineering Bootcamp, should I expect to receive an acceptance or confirmation email?',\n",
       " 'Is it absolutely necessary to complete the registration process before I can begin accessing course materials or submitting assignments?',\n",
       " \"If registration isn't a strict requirement for participation, what is its actual role or benefit within the course structure?\",\n",
       " 'Will my submissions for assignments be validated against any official enrollment list, or can I submit them independently?',\n",
       " 'Without receiving a formal confirmation, how can I be certain that I am officially enrolled and ready to fully participate in the Data Engineering Bootcamp?']"
      ]
     },
     "execution_count": 20,
     "metadata": {},
     "output_type": "execute_result"
    }
   ],
   "source": [
    "json.loads(json_response)"
   ]
  },
  {
   "cell_type": "code",
   "execution_count": 24,
   "id": "843d5155-a579-474c-83b2-5b128b45fbce",
   "metadata": {},
   "outputs": [
    {
     "name": "stderr",
     "output_type": "stream",
     "text": [
      "/usr/local/python/3.12.1/lib/python3.12/site-packages/tqdm/auto.py:21: TqdmWarning: IProgress not found. Please update jupyter and ipywidgets. See https://ipywidgets.readthedocs.io/en/stable/user_install.html\n",
      "  from .autonotebook import tqdm as notebook_tqdm\n"
     ]
    }
   ],
   "source": [
    "from tqdm.auto import tqdm"
   ]
  },
  {
   "cell_type": "code",
   "execution_count": 25,
   "id": "e6f18723-ded3-4adf-a27c-0eb426abd067",
   "metadata": {},
   "outputs": [],
   "source": [
    "results = {}"
   ]
  },
  {
   "cell_type": "code",
   "execution_count": 26,
   "id": "5a79c581-c480-4d8c-8763-f4f179d5c8a0",
   "metadata": {},
   "outputs": [
    {
     "name": "stderr",
     "output_type": "stream",
     "text": [
      "  0%|                                                                                                     | 1/948 [00:05<1:33:01,  5.89s/it]\n"
     ]
    }
   ],
   "source": [
    "limit = 1; # len(documents)\n",
    "index = 0\n",
    "for doc in tqdm(documents):\n",
    "    if (index >= limit):\n",
    "        break\n",
    "    index += 1\n",
    "    doc_id = doc['id']\n",
    "    if doc_id in results:\n",
    "        continue\n",
    "\n",
    "    questions = generate_questions(doc)\n",
    "    results[doc_id] = questions"
   ]
  },
  {
   "cell_type": "code",
   "execution_count": 32,
   "id": "3fa0e176-8dad-4930-bac7-c4ec1c314944",
   "metadata": {},
   "outputs": [
    {
     "data": {
      "text/plain": [
       "{'c02e79ef': '[\\n\"Could you please confirm the exact date and time the course officially kicks off, and what kind of event will mark its beginning?\",\\n\"Is there a specific calendar I should subscribe to for all course events, and are there any device restrictions for accessing it?\",\\n\"What is the mandatory registration process I need to complete before the course commences?\",\\n\"How will I receive official announcements and critical updates throughout the course?\",\\n\"Is there a dedicated platform or community where I can engage with other students and course staff?\"\\n]'}"
      ]
     },
     "execution_count": 32,
     "metadata": {},
     "output_type": "execute_result"
    }
   ],
   "source": [
    "results"
   ]
  },
  {
   "cell_type": "code",
   "execution_count": 34,
   "id": "c4eb3b28-ba40-461d-8d85-d63731c379cd",
   "metadata": {},
   "outputs": [
    {
     "name": "stdout",
     "output_type": "stream",
     "text": [
      "--2025-07-15 10:31:02--  https://github.com/DataTalksClub/llm-zoomcamp/raw/refs/heads/main/03-evaluation/search_evaluation/results.bin\n",
      "Resolving github.com (github.com)... 20.205.243.166\n",
      "Connecting to github.com (github.com)|20.205.243.166|:443... connected.\n",
      "HTTP request sent, awaiting response... 302 Found\n",
      "Location: https://raw.githubusercontent.com/DataTalksClub/llm-zoomcamp/refs/heads/main/03-evaluation/search_evaluation/results.bin [following]\n",
      "--2025-07-15 10:31:03--  https://raw.githubusercontent.com/DataTalksClub/llm-zoomcamp/refs/heads/main/03-evaluation/search_evaluation/results.bin\n",
      "Resolving raw.githubusercontent.com (raw.githubusercontent.com)... 185.199.109.133, 185.199.110.133, 185.199.111.133, ...\n",
      "Connecting to raw.githubusercontent.com (raw.githubusercontent.com)|185.199.109.133|:443... connected.\n",
      "HTTP request sent, awaiting response... 200 OK\n",
      "Length: 403252 (394K) [application/octet-stream]\n",
      "Saving to: ‘results.bin.1’\n",
      "\n",
      "results.bin.1       100%[===================>] 393.80K  --.-KB/s    in 0.006s  \n",
      "\n",
      "2025-07-15 10:31:03 (62.1 MB/s) - ‘results.bin.1’ saved [403252/403252]\n",
      "\n"
     ]
    }
   ],
   "source": [
    "!wget https://github.com/DataTalksClub/llm-zoomcamp/raw/refs/heads/main/03-evaluation/search_evaluation/results.bin"
   ]
  },
  {
   "cell_type": "code",
   "execution_count": 33,
   "id": "1c8639d6-1665-4720-81f8-bfcabcf0d2e9",
   "metadata": {},
   "outputs": [],
   "source": [
    "import pickle"
   ]
  },
  {
   "cell_type": "code",
   "execution_count": 39,
   "id": "7428c5f4-ce21-46d4-941e-e70bf5badf8f",
   "metadata": {},
   "outputs": [],
   "source": [
    "with open('results.bin', 'rb') as f_in:\n",
    "    results = pickle.load(f_in)"
   ]
  },
  {
   "cell_type": "code",
   "execution_count": 40,
   "id": "bf6e7e0e-03a1-43a8-a19d-08efac0eb62b",
   "metadata": {},
   "outputs": [
    {
     "data": {
      "text/plain": [
       "'[\"Where can I find the prerequisites for this course?\", \"How do I check the prerequisites for this course?\", \"Where are the course prerequisites listed?\", \"What are the requirements for joining this course?\", \"Where is the list of prerequisites for the course?\"]'"
      ]
     },
     "execution_count": 40,
     "metadata": {},
     "output_type": "execute_result"
    }
   ],
   "source": [
    "results['1f6520ca']"
   ]
  },
  {
   "cell_type": "code",
   "execution_count": 48,
   "id": "9b6e8da7-9264-4740-a0cb-6a98d8ab94c8",
   "metadata": {},
   "outputs": [],
   "source": [
    "parsed_results = {}\n",
    "\n",
    "for doc_id, json_questions in results.items():\n",
    "    parsed_results[doc_id] = json.loads(json_questions)"
   ]
  },
  {
   "cell_type": "code",
   "execution_count": 42,
   "id": "e4eda8a3-bc0c-4bf2-b1c9-4878685321b7",
   "metadata": {},
   "outputs": [
    {
     "name": "stdout",
     "output_type": "stream",
     "text": [
      "[\n",
      "\"How can I resolve the Docker error 'invalid mode: \\\\Program Files\\\\Git\\\\var\\\\lib\\\\postgresql\\\\data'?\",\n",
      "\"What should I do if I encounter an invalid mode error in Docker on Windows?\",\n",
      "\"What is the correct mounting path to use in Docker for PostgreSQL data on Windows?\",\n",
      "\"Can you provide an example of a correct Docker mounting path for PostgreSQL data?\",\n",
      "\"How do I correct the mounting path error in Docker for \\\\\\Program Files\\\\Git\\\\var\\\\lib\\\\postgresql\\\\data'?\"\n",
      "]\n"
     ]
    }
   ],
   "source": [
    "print(json_questions)"
   ]
  },
  {
   "cell_type": "code",
   "execution_count": 43,
   "id": "f01feca9-aad0-45f7-a81a-200e18e0e0bf",
   "metadata": {},
   "outputs": [],
   "source": [
    "json_questions=[\n",
    "r\"How can I resolve the Docker error 'invalid mode: \\Program Files\\Git\\var\\lib\\postgresql\\data'?\",\n",
    "\"What should I do if I encounter an invalid mode error in Docker on Windows?\",\n",
    "\"What is the correct mounting path to use in Docker for PostgreSQL data on Windows?\",\n",
    "\"Can you provide an example of a correct Docker mounting path for PostgreSQL data?\",\n",
    "r\"How do I correct the mounting path error in Docker for \\Program Files\\Git\\var\\lib\\postgresql\\data'?\"\n",
    "]"
   ]
  },
  {
   "cell_type": "code",
   "execution_count": 44,
   "id": "81df403e-d9f8-48f3-aa16-2ecdda4a2d8f",
   "metadata": {},
   "outputs": [
    {
     "data": {
      "text/plain": [
       "'[\"How can I resolve the Docker error \\'invalid mode: \\\\\\\\Program Files\\\\\\\\Git\\\\\\\\var\\\\\\\\lib\\\\\\\\postgresql\\\\\\\\data\\'?\", \"What should I do if I encounter an invalid mode error in Docker on Windows?\", \"What is the correct mounting path to use in Docker for PostgreSQL data on Windows?\", \"Can you provide an example of a correct Docker mounting path for PostgreSQL data?\", \"How do I correct the mounting path error in Docker for \\\\\\\\Program Files\\\\\\\\Git\\\\\\\\var\\\\\\\\lib\\\\\\\\postgresql\\\\\\\\data\\'?\"]'"
      ]
     },
     "execution_count": 44,
     "metadata": {},
     "output_type": "execute_result"
    }
   ],
   "source": [
    "json.dumps(json_questions)"
   ]
  },
  {
   "cell_type": "code",
   "execution_count": 45,
   "id": "68906bc0-624a-4bcd-bcd2-67c6fbdc1fa0",
   "metadata": {},
   "outputs": [
    {
     "data": {
      "text/plain": [
       "'58c9f99f'"
      ]
     },
     "execution_count": 45,
     "metadata": {},
     "output_type": "execute_result"
    }
   ],
   "source": [
    "doc_id"
   ]
  },
  {
   "cell_type": "code",
   "execution_count": 46,
   "id": "3cf0da17-8907-43c9-8944-402f0c2c4217",
   "metadata": {},
   "outputs": [],
   "source": [
    "results[doc_id] = json.dumps(json_questions)"
   ]
  },
  {
   "cell_type": "code",
   "execution_count": 50,
   "id": "f93b01cd-f2d2-4886-90e9-c075c98dcaf3",
   "metadata": {},
   "outputs": [],
   "source": [
    "doc_index = {d['id']: d for d in documents}"
   ]
  },
  {
   "cell_type": "code",
   "execution_count": 52,
   "id": "8b7fc150-32c0-4f74-92a8-2e1b1b90a425",
   "metadata": {},
   "outputs": [],
   "source": [
    "final_results = []\n",
    "\n",
    "for doc_id, questions in parsed_results.items():\n",
    "    course = doc_index[doc_id]['course']\n",
    "    for q in questions:\n",
    "        final_results.append((q, course, doc_id))"
   ]
  },
  {
   "cell_type": "code",
   "execution_count": 54,
   "id": "d7b5f5f9-4dd3-407b-9178-e02739d7a411",
   "metadata": {},
   "outputs": [
    {
     "data": {
      "text/plain": [
       "[('When does the course begin?', 'data-engineering-zoomcamp', 'c02e79ef'),\n",
       " ('How can I get the course schedule?',\n",
       "  'data-engineering-zoomcamp',\n",
       "  'c02e79ef'),\n",
       " ('What is the link for course registration?',\n",
       "  'data-engineering-zoomcamp',\n",
       "  'c02e79ef'),\n",
       " ('How can I receive course announcements?',\n",
       "  'data-engineering-zoomcamp',\n",
       "  'c02e79ef'),\n",
       " ('Where do I join the Slack channel?',\n",
       "  'data-engineering-zoomcamp',\n",
       "  'c02e79ef'),\n",
       " ('Where can I find the prerequisites for this course?',\n",
       "  'data-engineering-zoomcamp',\n",
       "  '1f6520ca'),\n",
       " ('How do I check the prerequisites for this course?',\n",
       "  'data-engineering-zoomcamp',\n",
       "  '1f6520ca'),\n",
       " ('Where are the course prerequisites listed?',\n",
       "  'data-engineering-zoomcamp',\n",
       "  '1f6520ca'),\n",
       " ('What are the requirements for joining this course?',\n",
       "  'data-engineering-zoomcamp',\n",
       "  '1f6520ca'),\n",
       " ('Where is the list of prerequisites for the course?',\n",
       "  'data-engineering-zoomcamp',\n",
       "  '1f6520ca')]"
      ]
     },
     "execution_count": 54,
     "metadata": {},
     "output_type": "execute_result"
    }
   ],
   "source": [
    "final_results[:10]"
   ]
  },
  {
   "cell_type": "code",
   "execution_count": 55,
   "id": "7f3f1145-c050-4ba7-a8f9-f01f330fcc05",
   "metadata": {},
   "outputs": [],
   "source": [
    "import pandas as pd"
   ]
  },
  {
   "cell_type": "code",
   "execution_count": 56,
   "id": "4a12d630-9fe8-456e-8d01-8937300aadc9",
   "metadata": {},
   "outputs": [],
   "source": [
    "df = pd.DataFrame(final_results, columns=['question', 'course', 'document'])"
   ]
  },
  {
   "cell_type": "code",
   "execution_count": 57,
   "id": "0beee72f-dd27-41f6-8c3a-9ba3dd322acd",
   "metadata": {},
   "outputs": [],
   "source": [
    "df.to_csv('ground-truth-data.csv', index=False)"
   ]
  },
  {
   "cell_type": "code",
   "execution_count": 58,
   "id": "7d748410-9660-4166-826f-b1e231701306",
   "metadata": {},
   "outputs": [
    {
     "name": "stdout",
     "output_type": "stream",
     "text": [
      "question,course,document\n",
      "When does the course begin?,data-engineering-zoomcamp,c02e79ef\n",
      "How can I get the course schedule?,data-engineering-zoomcamp,c02e79ef\n",
      "What is the link for course registration?,data-engineering-zoomcamp,c02e79ef\n",
      "How can I receive course announcements?,data-engineering-zoomcamp,c02e79ef\n",
      "Where do I join the Slack channel?,data-engineering-zoomcamp,c02e79ef\n",
      "Where can I find the prerequisites for this course?,data-engineering-zoomcamp,1f6520ca\n",
      "How do I check the prerequisites for this course?,data-engineering-zoomcamp,1f6520ca\n",
      "Where are the course prerequisites listed?,data-engineering-zoomcamp,1f6520ca\n",
      "What are the requirements for joining this course?,data-engineering-zoomcamp,1f6520ca\n"
     ]
    }
   ],
   "source": [
    "!head ground-truth-data.csv"
   ]
  },
  {
   "cell_type": "code",
   "execution_count": null,
   "id": "4ddbfb09-30ee-4953-ac22-f12a7924f86d",
   "metadata": {},
   "outputs": [],
   "source": []
  }
 ],
 "metadata": {
  "kernelspec": {
   "display_name": "Python 3 (ipykernel)",
   "language": "python",
   "name": "python3"
  },
  "language_info": {
   "codemirror_mode": {
    "name": "ipython",
    "version": 3
   },
   "file_extension": ".py",
   "mimetype": "text/x-python",
   "name": "python",
   "nbconvert_exporter": "python",
   "pygments_lexer": "ipython3",
   "version": "3.12.1"
  }
 },
 "nbformat": 4,
 "nbformat_minor": 5
}
