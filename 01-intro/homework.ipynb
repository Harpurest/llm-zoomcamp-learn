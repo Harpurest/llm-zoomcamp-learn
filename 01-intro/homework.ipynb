{
 "cells": [
  {
   "cell_type": "code",
   "execution_count": 1,
   "id": "5354f582-629d-44c0-ab1f-dacf3a2de6f9",
   "metadata": {},
   "outputs": [],
   "source": [
    "from google import genai\n",
    "import os"
   ]
  },
  {
   "cell_type": "code",
   "execution_count": 5,
   "id": "38adf0ea-9a68-4229-b301-bbe59640abc8",
   "metadata": {},
   "outputs": [
    {
     "name": "stdout",
     "output_type": "stream",
     "text": [
      "It depends on the course! To give you an accurate answer, I need a little more information:\n",
      "\n",
      "1.  **Which course are you interested in?** (e.g., \"Introduction to Python,\" \"Digital Marketing Fundamentals,\" \"University X's History 101\")\n",
      "2.  **Where is it being offered?** (e.g., specific university, online platform like Coursera/edX/Udemy, local community college, private training provider)\n",
      "3.  **When was it supposed to start, or has it already started?**\n",
      "\n",
      "**Generally, here's why it might or might not be too late:**\n",
      "\n",
      "**It might be too late if:**\n",
      "*   The registration deadline has passed.\n",
      "*   The course has started and too much material has been covered to catch up.\n",
      "*   The class is full and there's no waitlist.\n",
      "*   It's a structured, cohort-based course with no rolling admissions.\n",
      "\n",
      "**It might NOT be too late if:**\n",
      "*   It's a self-paced online course you can start anytime.\n",
      "*   There's a late registration period (sometimes with an extra fee).\n",
      "*   The course hasn't started yet, or a new session is about to begin.\n",
      "*   There's a waiting list you can join.\n",
      "*   The instructor allows late adds with a commitment to catch up.\n",
      "*   It's an open enrollment program.\n",
      "\n",
      "**What you should do:**\n",
      "\n",
      "*   **Check the official course website:** Look for \"Admissions,\" \"Enrollment,\" \"Registration,\" or \"Start Dates.\"\n",
      "*   **Contact the admissions office or course administrator:** This is usually the best and most definitive way to find out.\n",
      "*   **Email the instructor:** If the course has already started, they might have insights into whether catching up is feasible.\n",
      "\n",
      "Let me know the details, and I might be able to help you find the specific information!\n"
     ]
    }
   ],
   "source": [
    "from google import genai\n",
    "from google.genai import types\n",
    "\n",
    "# The client gets the API key from the environment variable `GEMINI_API_KEY`.\n",
    "client = genai.Client()\n",
    "\n",
    "contents = types.Content(\n",
    "  role='user',\n",
    "  parts=[types.Part.from_text(text='Is it too late to join the course?')]\n",
    ")\n",
    "\n",
    "response = client.models.generate_content(\n",
    "    model=\"gemini-2.5-flash\", contents=contents\n",
    ")\n",
    "\n",
    "client.chats.create\n",
    "print(response.text)"
   ]
  },
  {
   "cell_type": "code",
   "execution_count": null,
   "id": "bc8bae9f-e6fe-4a1c-af7d-ba678cf47509",
   "metadata": {},
   "outputs": [],
   "source": []
  }
 ],
 "metadata": {
  "kernelspec": {
   "display_name": "Python 3 (ipykernel)",
   "language": "python",
   "name": "python3"
  },
  "language_info": {
   "codemirror_mode": {
    "name": "ipython",
    "version": 3
   },
   "file_extension": ".py",
   "mimetype": "text/x-python",
   "name": "python",
   "nbconvert_exporter": "python",
   "pygments_lexer": "ipython3",
   "version": "3.12.1"
  }
 },
 "nbformat": 4,
 "nbformat_minor": 5
}
