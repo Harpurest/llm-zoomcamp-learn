{
 "cells": [
  {
   "cell_type": "code",
   "execution_count": null,
   "id": "cbdcc209-0e9c-4b9b-ab1a-42716abba9af",
   "metadata": {},
   "outputs": [],
   "source": [
    "!wget https://raw.githubusercontent.com/alexeygrigorev/minsearch/refs/heads/main/minsearch/minsearch.py"
   ]
  },
  {
   "cell_type": "code",
   "execution_count": null,
   "id": "78be8501-96d4-4c18-b7c1-cc5d46fa4435",
   "metadata": {},
   "outputs": [],
   "source": [
    "!wget https://raw.githubusercontent.com/alexeygrigorev/llm-rag-workshop/main/notebooks/documents.json"
   ]
  },
  {
   "cell_type": "code",
   "execution_count": null,
   "id": "bd465349-5292-42d0-b41c-f1c10aeb9ed8",
   "metadata": {},
   "outputs": [],
   "source": [
    "!wget https://raw.githubusercontent.com/DataTalksClub/llm-zoomcamp/refs/heads/main/01-intro/parse-faq.ipynb"
   ]
  },
  {
   "cell_type": "code",
   "execution_count": 43,
   "id": "4978150f-91d9-4aa3-96d5-e548dc05ff97",
   "metadata": {},
   "outputs": [],
   "source": [
    "import minsearch\n",
    "import json"
   ]
  },
  {
   "cell_type": "code",
   "execution_count": 44,
   "id": "2f63bdfc-bb87-48da-80e9-cd39fbae1058",
   "metadata": {},
   "outputs": [],
   "source": [
    "with open('documents.json', 'rt') as f_in:\n",
    "    docs_raw = json.load(f_in)"
   ]
  },
  {
   "cell_type": "code",
   "execution_count": 45,
   "id": "c0191dd1-ef61-4897-92f7-f6d5d3bff9e5",
   "metadata": {},
   "outputs": [
    {
     "data": {
      "text/plain": [
       "{'text': \"The purpose of this document is to capture frequently asked technical questions\\nThe exact day and hour of the course will be 15th Jan 2024 at 17h00. The course will start with the first  “Office Hours'' live.1\\nSubscribe to course public Google Calendar (it works from Desktop only).\\nRegister before the course starts using this link.\\nJoin the course Telegram channel with announcements.\\nDon’t forget to register in DataTalks.Club's Slack and join the channel.\",\n",
       " 'section': 'General course-related questions',\n",
       " 'question': 'Course - When will the course start?',\n",
       " 'course': 'data-engineering-zoomcamp'}"
      ]
     },
     "execution_count": 45,
     "metadata": {},
     "output_type": "execute_result"
    }
   ],
   "source": [
    "documents = []\n",
    "\n",
    "for course_dict in docs_raw:\n",
    "    for doc in course_dict['documents']:\n",
    "        doc['course'] = course_dict['course']\n",
    "        documents.append(doc)\n",
    "documents[0]"
   ]
  },
  {
   "cell_type": "code",
   "execution_count": 46,
   "id": "64986e71-e3ae-4e12-8561-16377eda0040",
   "metadata": {},
   "outputs": [],
   "source": [
    "index = minsearch.Index(\n",
    "    text_fields=['text', 'section', 'question'],\n",
    "    keyword_fields=['course']\n",
    ")"
   ]
  },
  {
   "cell_type": "code",
   "execution_count": 47,
   "id": "06668a08-d890-4086-8ca2-93e38c3bc243",
   "metadata": {},
   "outputs": [],
   "source": [
    "q = 'The course has already started, can I still enroll?'"
   ]
  },
  {
   "cell_type": "code",
   "execution_count": 48,
   "id": "621e4ec0-ea6c-4ae7-9a81-8aa74247601a",
   "metadata": {},
   "outputs": [
    {
     "data": {
      "text/plain": [
       "<minsearch.Index at 0x76b8b2f110d0>"
      ]
     },
     "execution_count": 48,
     "metadata": {},
     "output_type": "execute_result"
    }
   ],
   "source": [
    "index.fit(documents)"
   ]
  },
  {
   "cell_type": "code",
   "execution_count": 49,
   "id": "0e0676fe-3cdd-4fcf-a3d9-2115897177b7",
   "metadata": {},
   "outputs": [],
   "source": [
    "boost = {'question': 3.0, 'section': 0.5}\n",
    "filter = {'course':'data-engineering-zoomcamp'}\n",
    "results = index.search(\n",
    "    query=q,\n",
    "    filter_dict=filter,\n",
    "    boost_dict=boost,\n",
    "    num_results=5\n",
    ")"
   ]
  },
  {
   "cell_type": "code",
   "execution_count": 50,
   "id": "39704d39-2cbc-4bea-a613-63f80f32dc39",
   "metadata": {},
   "outputs": [
    {
     "data": {
      "text/plain": [
       "[{'text': \"Yes, even if you don't register, you're still eligible to submit the homeworks.\\nBe aware, however, that there will be deadlines for turning in the final projects. So don't leave everything for the last minute.\",\n",
       "  'section': 'General course-related questions',\n",
       "  'question': 'Course - Can I still join the course after the start date?',\n",
       "  'course': 'data-engineering-zoomcamp'},\n",
       " {'text': 'Yes, we will keep all the materials after the course finishes, so you can follow the course at your own pace after it finishes.\\nYou can also continue looking at the homeworks and continue preparing for the next cohort. I guess you can also start working on your final capstone project.',\n",
       "  'section': 'General course-related questions',\n",
       "  'question': 'Course - Can I follow the course after it finishes?',\n",
       "  'course': 'data-engineering-zoomcamp'},\n",
       " {'text': \"The purpose of this document is to capture frequently asked technical questions\\nThe exact day and hour of the course will be 15th Jan 2024 at 17h00. The course will start with the first  “Office Hours'' live.1\\nSubscribe to course public Google Calendar (it works from Desktop only).\\nRegister before the course starts using this link.\\nJoin the course Telegram channel with announcements.\\nDon’t forget to register in DataTalks.Club's Slack and join the channel.\",\n",
       "  'section': 'General course-related questions',\n",
       "  'question': 'Course - When will the course start?',\n",
       "  'course': 'data-engineering-zoomcamp'},\n",
       " {'text': 'You can start by installing and setting up all the dependencies and requirements:\\nGoogle cloud account\\nGoogle Cloud SDK\\nPython 3 (installed with Anaconda)\\nTerraform\\nGit\\nLook over the prerequisites and syllabus to see if you are comfortable with these subjects.',\n",
       "  'section': 'General course-related questions',\n",
       "  'question': 'Course - What can I do before the course starts?',\n",
       "  'course': 'data-engineering-zoomcamp'},\n",
       " {'text': 'Yes, the slack channel remains open and you can ask questions there. But always sDocker containers exit code w search the channel first and second, check the FAQ (this document), most likely all your questions are already answered here.\\nYou can also tag the bot @ZoomcampQABot to help you conduct the search, but don’t rely on its answers 100%, it is pretty good though.',\n",
       "  'section': 'General course-related questions',\n",
       "  'question': 'Course - Can I get support if I take the course in the self-paced mode?',\n",
       "  'course': 'data-engineering-zoomcamp'}]"
      ]
     },
     "execution_count": 50,
     "metadata": {},
     "output_type": "execute_result"
    }
   ],
   "source": [
    "results"
   ]
  },
  {
   "cell_type": "code",
   "execution_count": 51,
   "id": "dc6fcc56-87a2-46c9-81cb-be7fbcec740f",
   "metadata": {},
   "outputs": [
    {
     "name": "stdout",
     "output_type": "stream",
     "text": [
      "It's impossible for me to say without more information!\n",
      "\n",
      "To find out if it's too late to join the course, please tell me:\n",
      "\n",
      "1.  **What course are you interested in?** (e.g., \"Introduction to Python,\" \"Digital Marketing Fundamentals\")\n",
      "2.  **Where is it being offered?** (e.g., \"XYZ University,\" \"Coursera,\" \"Local Community College,\" \"A specific online platform\")\n",
      "3.  **Do you know when it was supposed to start, or when you heard about it?**\n",
      "\n",
      "Once I have that information, I can tell you the best way to check, or if I can find the details myself.\n",
      "\n",
      "**In general, here's how you can usually find out:**\n",
      "\n",
      "*   **Check the official course website or registration page:** Look for sections like \"Enrollment,\" \"Admissions,\" \"Deadlines,\" \"How to Register,\" or \"FAQs.\"\n",
      "*   **Look for a contact email or phone number:** Reach out directly to the admissions, registration, or course coordinator.\n",
      "*   **Check for a waitlist option:** Even if registration is closed, some courses offer a waitlist.\n",
      "*   **See if the course is offered again soon:** Many popular courses have multiple start dates throughout the year.\n"
     ]
    }
   ],
   "source": [
    "from google import genai\n",
    "from google.genai import types\n",
    "\n",
    "# The client gets the API key from the environment variable `GEMINI_API_KEY`.\n",
    "client = genai.Client()\n",
    "\n",
    "contents = types.Content(\n",
    "  role='user',\n",
    "  parts=[types.Part.from_text(text='Is it too late to join the course?')]\n",
    ")\n",
    "\n",
    "response = client.models.generate_content(\n",
    "    model=\"gemini-2.5-flash\", contents=contents\n",
    ")\n",
    "\n",
    "client.chats.create\n",
    "print(response.text)"
   ]
  },
  {
   "cell_type": "code",
   "execution_count": 52,
   "id": "d21a3356-29df-42ad-8bb4-5ada5455fe53",
   "metadata": {},
   "outputs": [
    {
     "name": "stdout",
     "output_type": "stream",
     "text": [
      "You're a course teaching assistant. Answer the QUESTION based on the CONTEXT from the FAQ database.\n",
      "Use only the facts from the CONTEXT when answering the QUESTION.\n",
      "If the CONTEXT doesn't contain the answer, output NONE\n",
      "\n",
      "QUESTION: The course has already started, can I still enroll?\n",
      "\n",
      "CONTEXT:\n",
      "section: General course-related questions\n",
      "question: Course - Can I still join the course after the start date?\n",
      "answer: Yes, even if you don't register, you're still eligible to submit the homeworks.\n",
      "Be aware, however, that there will be deadlines for turning in the final projects. So don't leave everything for the last minute.section: General course-related questions\n",
      "question: Course - Can I follow the course after it finishes?\n",
      "answer: Yes, we will keep all the materials after the course finishes, so you can follow the course at your own pace after it finishes.\n",
      "You can also continue looking at the homeworks and continue preparing for the next cohort. I guess you can also start working on your final capstone project.section: General course-related questions\n",
      "question: Course - When will the course start?\n",
      "answer: The purpose of this document is to capture frequently asked technical questions\n",
      "The exact day and hour of the course will be 15th Jan 2024 at 17h00. The course will start with the first  “Office Hours'' live.1\n",
      "Subscribe to course public Google Calendar (it works from Desktop only).\n",
      "Register before the course starts using this link.\n",
      "Join the course Telegram channel with announcements.\n",
      "Don’t forget to register in DataTalks.Club's Slack and join the channel.section: General course-related questions\n",
      "question: Course - What can I do before the course starts?\n",
      "answer: You can start by installing and setting up all the dependencies and requirements:\n",
      "Google cloud account\n",
      "Google Cloud SDK\n",
      "Python 3 (installed with Anaconda)\n",
      "Terraform\n",
      "Git\n",
      "Look over the prerequisites and syllabus to see if you are comfortable with these subjects.section: General course-related questions\n",
      "question: Course - Can I get support if I take the course in the self-paced mode?\n",
      "answer: Yes, the slack channel remains open and you can ask questions there. But always sDocker containers exit code w search the channel first and second, check the FAQ (this document), most likely all your questions are already answered here.\n",
      "You can also tag the bot @ZoomcampQABot to help you conduct the search, but don’t rely on its answers 100%, it is pretty good though.\n"
     ]
    }
   ],
   "source": [
    "prompt_template = \"\"\"\n",
    "You're a course teaching assistant. Answer the QUESTION based on the CONTEXT from the FAQ database.\n",
    "Use only the facts from the CONTEXT when answering the QUESTION.\n",
    "If the CONTEXT doesn't contain the answer, output NONE\n",
    "\n",
    "QUESTION: {question}\n",
    "\n",
    "CONTEXT:\n",
    "{context}\n",
    "\"\"\".strip()\n",
    "\n",
    "context = \"\"\n",
    "\n",
    "for doc in results:\n",
    "    context = context + f\"section: {doc['section']}\\nquestion: {doc['question']}\\nanswer: {doc['text']}\"\n",
    "\n",
    "prompt = prompt_template.format(question=q, context=context)\n",
    "print(prompt)"
   ]
  },
  {
   "cell_type": "code",
   "execution_count": 53,
   "id": "3b7646a8-1ce1-4a01-8344-9bb39534ec03",
   "metadata": {},
   "outputs": [
    {
     "name": "stdout",
     "output_type": "stream",
     "text": [
      "Yes, even if you don't register, you're still eligible to submit the homeworks. Be aware, however, that there will be deadlines for turning in the final projects.\n"
     ]
    }
   ],
   "source": [
    "contents = types.Content(\n",
    "  role='user',\n",
    "  parts=[types.Part.from_text(text=prompt)]\n",
    ")\n",
    "\n",
    "response = client.models.generate_content(\n",
    "    model=\"gemini-2.5-flash\", contents=contents\n",
    ")\n",
    "\n",
    "client.chats.create\n",
    "print(response.text)"
   ]
  },
  {
   "cell_type": "code",
   "execution_count": 72,
   "id": "163c4cc0-a053-459c-adbb-635c063ace7d",
   "metadata": {},
   "outputs": [],
   "source": [
    "def search(query):\n",
    "    boost = {'question': 3.0, 'section': 0.5}\n",
    "    filter = {'course':'data-engineering-zoomcamp'}\n",
    "\n",
    "    results = index.search(\n",
    "        query=query,\n",
    "        filter_dict=filter,\n",
    "        boost_dict=boost,\n",
    "        num_results=5\n",
    "    )\n",
    "\n",
    "    return results"
   ]
  },
  {
   "cell_type": "code",
   "execution_count": 89,
   "id": "6151184a-54ea-4f6f-a128-5a1607ab608a",
   "metadata": {},
   "outputs": [],
   "source": [
    "def build_prompt(query, search_results):\n",
    "    prompt_template = \"\"\"\n",
    "You're a course teaching assistant. Answer the QUESTION based on the CONTEXT from the FAQ database.\n",
    "Use only the facts from the CONTEXT when answering the QUESTION.\n",
    "If the CONTEXT doesn't contain the answer, output NONE\n",
    "\n",
    "QUESTION: {question}\n",
    "\n",
    "CONTEXT:\n",
    "{context}\n",
    "    \"\"\".strip()\n",
    "\n",
    "    context = \"\"\n",
    "\n",
    "    for doc in search_results:\n",
    "        context = context + f\"section: {doc['section']}\\nquestion: {doc['question']}\\nanswer: {doc['text']}\"\n",
    "\n",
    "    prompt = prompt_template.format(question=query, context=context)\n",
    "    return prompt"
   ]
  },
  {
   "cell_type": "code",
   "execution_count": 90,
   "id": "f7e5e64d-86c7-44f1-985f-0fdbb8cfea82",
   "metadata": {},
   "outputs": [],
   "source": [
    "def llm(prompt):\n",
    "    contents = types.Content(\n",
    "      role='user',\n",
    "      parts=[types.Part.from_text(text=prompt)]\n",
    "    )\n",
    "    \n",
    "    response = client.models.generate_content(\n",
    "        model=\"gemini-2.5-flash\", contents=contents\n",
    "    )\n",
    "    \n",
    "    client.chats.create\n",
    "    return response.text"
   ]
  },
  {
   "cell_type": "code",
   "execution_count": 92,
   "id": "75ae948f-3d02-44a1-8376-14374cc0fcad",
   "metadata": {},
   "outputs": [
    {
     "name": "stdout",
     "output_type": "stream",
     "text": [
      "You're a course teaching assistant. Answer the QUESTION based on the CONTEXT from the FAQ database.\n",
      "Use only the facts from the CONTEXT or what you can infer from the CONTEXT when answering the QUESTION.\n",
      "If the CONTEXT doesn't contain the answer, output NONE\n",
      "\n",
      "QUESTION: BigQuery returns an error when i try to run dbt run\n",
      "\n",
      "CONTEXT:\n",
      "section: Module 4: analytics engineering with dbt\n",
      "question: BigQuery returns an error when i try to run ‘dbt run’:\n",
      "answer: My taxi data was loaded into gcs with etl_web_to_gcs.py script that converts csv data into parquet. Then I placed raw data trips into external tables and when I executed dbt run I got an error message: Parquet column 'passenger_count' has type INT64 which does not match the target cpp_type DOUBLE. It is because several columns in files have different formats of data.\n",
      "When I added df[col] = df[col].astype('Int64') transformation to the columns: passenger_count, payment_type, RatecodeID, VendorID, trip_type it went ok. Several people also faced this error and more about it you can read on the slack channel.section: Module 4: analytics engineering with dbt\n",
      "question: BigQuery returns an error when I try to run the dm_monthly_zone_revenue.sql model.\n",
      "answer: R: After the second SELECT, change this line:\n",
      "date_trunc('month', pickup_datetime) as revenue_month,\n",
      "To this line:\n",
      "date_trunc(pickup_datetime, month) as revenue_month,\n",
      "Make sure that “month” isn’t surrounded by quotes!section: Module 4: analytics engineering with dbt\n",
      "question: I changed location in dbt, but dbt run still gives me an error\n",
      "answer: Remove the dataset from BigQuery which was created by dbt and run dbt run again so that it will recreate the dataset in BigQuery with the correct locationsection: Module 4: analytics engineering with dbt\n",
      "question: DBT Deploy - Error When trying to run the dbt project on Prod\n",
      "answer: When running trying to run the dbt project on prod there is some things you need to do and check on your own:\n",
      "First Make the pull request and Merge the branch into the main.\n",
      "Make sure you have the latest version, if you made changes to the repo in another place.\n",
      "Check if the dbt_project.yml file is accessible to the project, if not check this solution (Dbt: This dbt Cloud run was cancelled because a valid dbt project was not found.).\n",
      "Check if the name you gave to the dataset on BigQuery is the same you put on the dataset spot on the production environment created on dbt cloud.section: Module 4: analytics engineering with dbt\n",
      "question: When executing dbt run after using fhv_tripdata as an external table: you get “Access Denied: BigQuery BigQuery: Permission denied”\n",
      "answer: 1. Go to your dbt cloud service account\n",
      "1. Adding the  [Storage Object Admin,Storage Admin] role in addition tco BigQuery Admin.\n",
      "\n",
      "\n",
      "\n",
      "\n",
      "There are several reasons why BigQuery might return an error when you try to run `dbt run`:\n",
      "\n",
      "1.  **Data type mismatch (e.g., Parquet INT64 vs. DOUBLE):** This can happen if columns in your data files (like `passenger_count`, `payment_type`, `RatecodeID`, `VendorID`, `trip_type`) have different data formats.\n",
      "    *   **Solution:** Add `df[col] = df[col].astype('Int64')` transformation to the problematic columns in your data loading script.\n",
      "\n",
      "2.  **Incorrect `date_trunc` syntax in a SQL model (e.g., `dm_monthly_zone_revenue.sql`):**\n",
      "    *   **Solution:** Change `date_trunc('month', pickup_datetime) as revenue_month` to `date_trunc(pickup_datetime, month) as revenue_month`, ensuring \"month\" is not surrounded by quotes.\n",
      "\n",
      "3.  **Location change in dbt without dataset recreation:** If you change the location in dbt, the old dataset might still exist in BigQuery causing issues.\n",
      "    *   **Solution:** Remove the dataset from BigQuery that was created by dbt, then run `dbt run` again to recreate it with the correct location.\n",
      "\n",
      "4.  **Permission denied when using external tables (e.g., `fhv_tripdata`):**\n",
      "    *   **Solution:** Go to your dbt cloud service account and add the `Storage Object Admin` and `Storage Admin` roles in addition to `BigQuery Admin`.\n",
      "\n",
      "5.  **Issues when running the dbt project on production:**\n",
      "    *   **Checks:**\n",
      "        *   Ensure you have made the pull request and merged the branch into the main.\n",
      "        *   Verify you have the latest version of the repo.\n",
      "        *   Check if the `dbt_project.yml` file is accessible to the project.\n",
      "        *   Confirm that the name you gave to the dataset on BigQuery matches the name in the production environment created on dbt cloud.\n"
     ]
    }
   ],
   "source": [
    "query = 'BigQuery returns an error when i try to run dbt run'\n",
    "search_results = search(query)\n",
    "prompt = build_prompt(query, search_results)\n",
    "answer = llm(prompt)\n",
    "print(answer)"
   ]
  },
  {
   "cell_type": "code",
   "execution_count": 93,
   "id": "da4b7ab0-5f35-4f6a-a889-f112b1433f2f",
   "metadata": {},
   "outputs": [],
   "source": [
    "def rag(query):\n",
    "    search_results = search(query)\n",
    "    prompt = build_prompt(query, search_results)\n",
    "    answer = llm(prompt)\n",
    "    return answer"
   ]
  },
  {
   "cell_type": "code",
   "execution_count": null,
   "id": "6c3f4547-0678-4e50-bf46-04e56f4614f3",
   "metadata": {},
   "outputs": [],
   "source": []
  }
 ],
 "metadata": {
  "kernelspec": {
   "display_name": "Python 3 (ipykernel)",
   "language": "python",
   "name": "python3"
  },
  "language_info": {
   "codemirror_mode": {
    "name": "ipython",
    "version": 3
   },
   "file_extension": ".py",
   "mimetype": "text/x-python",
   "name": "python",
   "nbconvert_exporter": "python",
   "pygments_lexer": "ipython3",
   "version": "3.12.1"
  }
 },
 "nbformat": 4,
 "nbformat_minor": 5
}
